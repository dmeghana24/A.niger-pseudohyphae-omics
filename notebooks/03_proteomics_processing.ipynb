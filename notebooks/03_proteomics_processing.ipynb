
import pandas as pd
import seaborn as sns

df = pd.read_csv("../data/processed/proteomics_abundance.csv")
sns.clustermap(df.set_index('ProteinID'), metric="correlation")
