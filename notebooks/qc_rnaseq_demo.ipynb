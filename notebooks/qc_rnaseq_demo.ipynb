
# Quality Control Demo: RNA-seq Mock Data

import pandas as pd
import matplotlib.pyplot as plt
from sklearn.decomposition import PCA

# Load mock data
counts = pd.read_csv('../test_data/mock_counts.csv', index_col=0)
meta = pd.read_csv('../test_data/mock_metadata.csv')

# Basic QC: library size
counts.sum().plot(kind='bar')
plt.ylabel('Total Counts per Sample')
plt.title('Library Size QC')
plt.tight_layout()
plt.savefig('../figures/qc_library_size.png')
plt.show()

# Log-transform for PCA
from numpy import log2
log_counts = counts.apply(lambda x: log2(x + 1))

# PCA
pca = PCA(n_components=2)
pcs = pca.fit_transform(log_counts.T)
plt.scatter(pcs[:,0], pcs[:,1], c=[0,1,0], label=meta['condition'])
for i, txt in enumerate(meta['sample']):
    plt.annotate(txt, (pcs[i,0], pcs[i,1]))
plt.xlabel('PC1')
plt.ylabel('PC2')
plt.title('PCA of Samples (Mock)')
plt.tight_layout()
plt.savefig('../figures/qc_pca_mock.png')
plt.show()
