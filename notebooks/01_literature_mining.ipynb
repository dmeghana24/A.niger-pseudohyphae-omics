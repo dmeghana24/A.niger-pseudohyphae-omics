
import pandas as pd
from Bio import Entrez
import re

# 1. Configure Entrez
Entrez.email = "dmeghana@umich.edu"  

# 2. Define PubMed search query (targeting key terms)
query = '("Aspergillus niger"[Title/Abstract]) AND (pseudohyphal OR "filamentous growth" OR morphogenesis OR hyphae OR septation)'

print("Searching PubMed...")
handle = Entrez.esearch(db="pubmed", term=query, retmax=30)
record = Entrez.read(handle)
ids = record['IdList']
print(f"Found {len(ids)} PubMed articles matching query.")

# 3. Download abstracts in batches for robustness
def fetch_abstracts(id_list, batch_size=10):
    abstracts = []
    for start in range(0, len(id_list), batch_size):
        batch_ids = id_list[start:start+batch_size]
        fetch = Entrez.efetch(db="pubmed", id=",".join(batch_ids), rettype="abstract", retmode="text")
        abstracts.append(fetch.read())
    return abstracts

print("Fetching abstracts from PubMed...")
abstracts = fetch_abstracts(ids)

# 4. Extract gene/protein candidate names from abstracts
# A. niger gene names: often 3-8 chars, start with lowercase, sometimes camelCase (rasA, stuA), also some uppercase (CreA, PacC)
# We want to avoid: common words, organism names, techniques

# Exclusion set (case insensitive)
exclusion = set([
    'Aspergillus', 'niger', 'RNA', 'DNA', 'PCR', 'fungal', 'hyphae',
    'filamentous', 'growth', 'cells', 'gene', 'protein', 'mutant',
    'strain', 'medium', 'colonies', 'mycelium', 'wild', 'type', 'expression'
])

gene_candidates = set()

print("Extracting candidate gene/protein names...")

for abs_txt in abstracts:
    # Extract single words 3-8 chars, with upper/lower or camelCase
    for word in re.findall(r'\b[a-zA-Z]{3,8}\b', abs_txt):
        # Simple filters
        if word.lower() in [e.lower() for e in exclusion]:
            continue
        # Classic A. niger gene/protein naming: rasA, stuA, chsA, pacC, gelA, mpkA, creA, etc.
        if re.match(r'^[a-z]{3,7}[A-Z]$', word):  # e.g., rasA, stuA
            gene_candidates.add(word)
        elif re.match(r'^[A-Z][a-z]{2,6}$', word):  # e.g., CreA, PacC
            gene_candidates.add(word)
        elif re.match(r'^[a-z]{3,8}$', word):  # all lower, e.g., gelA (rare), mpkA
            gene_candidates.add(word)
        elif re.match(r'^[A-Z]{3,8}$', word):  # all upper (occasionally used)
            gene_candidates.add(word)

gene_candidates = sorted(gene_candidates)
print(f"Extracted {len(gene_candidates)} unique candidate genes/proteins.")
print("Sample candidates:", gene_candidates[:10])

# 5. Save to file for downstream use
outfile = '../references/candidate_genes.txt'
pd.Series(gene_candidates).to_csv(outfile, index=False, header=False)
print(f"Saved candidate gene list to {outfile}")
