
# Example Full Pipeline Run: From Raw Counts to Candidate Genes

import pandas as pd
import matplotlib.pyplot as plt
from scipy.stats import ttest_ind

# Load data
counts = pd.read_csv('../test_data/mock_counts.csv', index_col=0)
meta = pd.read_csv('../test_data/mock_metadata.csv')

# Differential expression (simple t-test)
group1 = meta.loc[meta['condition']=='WT', 'sample']
group2 = meta.loc[meta['condition']=='Mut', 'sample']
results = []
for gene in counts.index:
    vals1 = counts.loc[gene, group1]
    vals2 = counts.loc[gene, group2]
    stat, pval = ttest_ind(vals1, vals2)
    results.append({'gene': gene, 'pval': pval})
de_results = pd.DataFrame(results)
de_results['fdr'] = de_results['pval'] * len(de_results)  # Bonferroni
de_results = de_results.sort_values('fdr')

# Save results table
de_results.to_csv('../results/mock_DEGs.csv', index=False)

# Volcano plot
import numpy as np
mean1 = counts[group1].mean(axis=1)
mean2 = counts[group2].mean(axis=1)
logfc = np.log2(mean2 + 1) - np.log2(mean1 + 1)
plt.scatter(logfc, -np.log10(de_results['pval']))
plt.xlabel('Log2 Fold Change (Mut vs WT)')
plt.ylabel('-log10(p-value)')
plt.title('Volcano Plot (Mock Data)')
plt.tight_layout()
plt.savefig('../figures/volcano_plot_mock.png')
plt.show()

# Show top genes
de_results.head()
