
import pandas as pd
import networkx as nx
import matplotlib.pyplot as plt

df = pd.read_csv("../results/integrated_gene_protein.csv")
G = nx.Graph()
for idx, row in df.iterrows():
    G.add_node(row['gene_name'], type='gene')
    G.add_node(row['protein_id'], type='protein')
    G.add_edge(row['gene_name'], row['protein_id'])

nx.draw(G, with_labels=True)
plt.show()
