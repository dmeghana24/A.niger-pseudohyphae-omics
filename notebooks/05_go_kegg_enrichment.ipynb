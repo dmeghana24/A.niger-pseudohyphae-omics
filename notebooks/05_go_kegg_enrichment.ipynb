
import pandas as pd
import matplotlib.pyplot as plt

go = pd.read_csv("../results/go_enrichment.csv")
sig = go[go['p_value'] < 0.05].sort_values('p_value').head(10)
plt.barh(sig['name'], -np.log10(sig['p_value']))
plt.xlabel("-log10(p)")
plt.title("Top GO terms (DEGs)")
plt.show()
