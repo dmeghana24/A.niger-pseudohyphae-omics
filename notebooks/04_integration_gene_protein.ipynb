
import pandas as pd

degs = pd.read_csv("../results/DEGs.csv")
prots = pd.read_csv("../data/processed/proteomics_abundance.csv")
mapping = pd.read_csv("../data/mapping/gene2protein_mapping.csv")
merged = pd.merge(degs, mapping, left_on='row.names', right_on='gene_id').merge(prots, on='protein_id')
merged.to_csv("../results/integrated_gene_protein.csv", index=False)
