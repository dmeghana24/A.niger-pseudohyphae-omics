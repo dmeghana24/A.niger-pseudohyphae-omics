
import pandas as pd
import matplotlib.pyplot as plt

# Summarize FastQC results (assume they've been run)
qc_data = pd.read_csv("../data/processed/fastqc/summary.txt", sep="\t")
plt.barh(qc_data['sample'], qc_data['per_base_quality'])
plt.title("Per-base sequence quality")
plt.xlabel("Mean quality score")
plt.ylabel("Sample")
plt.show()

# Alignment example command (HISAT2)
!hisat2 -x ../references/Aniger_genome -1 ../data/processed/AN01_R1.fq.gz -2 ../data/processed/AN01_R2.fq.gz -S ../data/processed/AN01.sam
